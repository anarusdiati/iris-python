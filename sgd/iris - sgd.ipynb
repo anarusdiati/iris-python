{
 "cells": [
  {
   "cell_type": "markdown",
   "metadata": {
    "collapsed": true
   },
   "source": [
    "#### Catatan nama variabel\n",
    "x1,x2,x3,x4\n",
    "theclass\n",
    "theta1,theta2,theta3,theta4\n",
    "bias\n",
    "h\n",
    "sigmoid\n",
    "prediction\n",
    "error\n",
    "deltatheta1,deltatheta2,deltatheta3,deltatheta4\n",
    "deltabias\n",
    "newtheta1,newtheta2,newtheta3,newtheta4\n",
    "newbias"
   ]
  },
  {
   "cell_type": "code",
   "execution_count": 1,
   "metadata": {},
   "outputs": [],
   "source": [
    "#Libraries\n",
    "import numpy as np\n",
    "import pandas as pd\n",
    "import matplotlib.pyplot as plt\n",
    "import math\n",
    "%matplotlib inline"
   ]
  },
  {
   "cell_type": "code",
   "execution_count": 2,
   "metadata": {},
   "outputs": [],
   "source": [
    "#Iris dataset: 100 first data\n",
    "iris = pd.read_csv('F:/iris.csv')"
   ]
  },
  {
   "cell_type": "code",
   "execution_count": 3,
   "metadata": {},
   "outputs": [],
   "source": [
    "#Inisiasi nilai awal epoch, alpha, x, theta, dan bias\n",
    "epoch = 60\n",
    "alpha = 0.1\n",
    "x = 100 #jumlah data/rows\n",
    "theta = [0.1,0.12,0.13,0.14]\n",
    "bias = 0.2"
   ]
  },
  {
   "cell_type": "code",
   "execution_count": 4,
   "metadata": {},
   "outputs": [],
   "source": [
    "#Rumus-rumus\n",
    "\n",
    "#h(x,theta,bias)\n",
    "def h(x,theta,bias):\n",
    "    return (np.dot(x,theta)+bias)\n",
    "    \n",
    "#sigmoid(h)\n",
    "def sigmoid(h):\n",
    "    return ((2.71**h)/(2.71**h+1))\n",
    "\n",
    "#prediction\n",
    "def prediction(sigmoid):\n",
    "    if sigmoid>=0.5:\n",
    "        prediction_value=1;\n",
    "    else:\n",
    "        prediction_value=0\n",
    "    return prediction_value\n",
    "\n",
    "#error\n",
    "def error(prediction,sigmoid):\n",
    "    return (prediction-sigmoid)**2\n",
    "\n",
    "#deltatheta\n",
    "def deltatheta(x,sigmoid,theclass):\n",
    "    return (2*(sigmoid(h)-theclass)*(1-sigmoid(h))*sigmoid(h)*x)\n",
    "\n",
    "#deltabias\n",
    "def deltabias(x,theclass):\n",
    "    return 2*(sigmoid(x)-theclass)*(1-sigmoid(x))*sigmoid(x)\n",
    "\n",
    "#newtheta\n",
    "def newtheta(x,sigmoid,theclass):\n",
    "    return x-a*deltatheta(x,theclass,sigmoid)\n",
    "\n",
    "#newbias\n",
    "def newbias(x,theclass):\n",
    "    return x-a*deltabias(x,theclass)\n"
   ]
  },
  {
   "cell_type": "code",
   "execution_count": 5,
   "metadata": {},
   "outputs": [
    {
     "name": "stdout",
     "output_type": "stream",
     "text": [
      "Error epoch- 0 :  0.019594825919758488\n",
      "Error epoch- 1 :  0.019594825919758488\n",
      "Error epoch- 2 :  0.019594825919758488\n",
      "Error epoch- 3 :  0.019594825919758488\n",
      "Error epoch- 4 :  0.019594825919758488\n",
      "Error epoch- 5 :  0.019594825919758488\n",
      "Error epoch- 6 :  0.019594825919758488\n",
      "Error epoch- 7 :  0.019594825919758488\n",
      "Error epoch- 8 :  0.019594825919758488\n",
      "Error epoch- 9 :  0.019594825919758488\n",
      "Error epoch- 10 :  0.019594825919758488\n",
      "Error epoch- 11 :  0.019594825919758488\n",
      "Error epoch- 12 :  0.019594825919758488\n",
      "Error epoch- 13 :  0.019594825919758488\n",
      "Error epoch- 14 :  0.019594825919758488\n",
      "Error epoch- 15 :  0.019594825919758488\n",
      "Error epoch- 16 :  0.019594825919758488\n",
      "Error epoch- 17 :  0.019594825919758488\n",
      "Error epoch- 18 :  0.019594825919758488\n",
      "Error epoch- 19 :  0.019594825919758488\n",
      "Error epoch- 20 :  0.019594825919758488\n",
      "Error epoch- 21 :  0.019594825919758488\n",
      "Error epoch- 22 :  0.019594825919758488\n",
      "Error epoch- 23 :  0.019594825919758488\n",
      "Error epoch- 24 :  0.019594825919758488\n",
      "Error epoch- 25 :  0.019594825919758488\n",
      "Error epoch- 26 :  0.019594825919758488\n",
      "Error epoch- 27 :  0.019594825919758488\n",
      "Error epoch- 28 :  0.019594825919758488\n",
      "Error epoch- 29 :  0.019594825919758488\n",
      "Error epoch- 30 :  0.019594825919758488\n",
      "Error epoch- 31 :  0.019594825919758488\n",
      "Error epoch- 32 :  0.019594825919758488\n",
      "Error epoch- 33 :  0.019594825919758488\n",
      "Error epoch- 34 :  0.019594825919758488\n",
      "Error epoch- 35 :  0.019594825919758488\n",
      "Error epoch- 36 :  0.019594825919758488\n",
      "Error epoch- 37 :  0.019594825919758488\n",
      "Error epoch- 38 :  0.019594825919758488\n",
      "Error epoch- 39 :  0.019594825919758488\n",
      "Error epoch- 40 :  0.019594825919758488\n",
      "Error epoch- 41 :  0.019594825919758488\n",
      "Error epoch- 42 :  0.019594825919758488\n",
      "Error epoch- 43 :  0.019594825919758488\n",
      "Error epoch- 44 :  0.019594825919758488\n",
      "Error epoch- 45 :  0.019594825919758488\n",
      "Error epoch- 46 :  0.019594825919758488\n",
      "Error epoch- 47 :  0.019594825919758488\n",
      "Error epoch- 48 :  0.019594825919758488\n",
      "Error epoch- 49 :  0.019594825919758488\n",
      "Error epoch- 50 :  0.019594825919758488\n",
      "Error epoch- 51 :  0.019594825919758488\n",
      "Error epoch- 52 :  0.019594825919758488\n",
      "Error epoch- 53 :  0.019594825919758488\n",
      "Error epoch- 54 :  0.019594825919758488\n",
      "Error epoch- 55 :  0.019594825919758488\n",
      "Error epoch- 56 :  0.019594825919758488\n",
      "Error epoch- 57 :  0.019594825919758488\n",
      "Error epoch- 58 :  0.019594825919758488\n",
      "Error epoch- 59 :  0.019594825919758488\n"
     ]
    }
   ],
   "source": [
    "for i in range(60):\n",
    "    errorsum = 0.0\n",
    "    for index,row in iris.iterrows():\n",
    "        x = row[0:4]\n",
    "        a = h(x,theta,bias)\n",
    "        b = sigmoid(a)\n",
    "        c = prediction(b)\n",
    "        d = error(c,b)\n",
    "        #e = row[5] #theclass\n",
    "        #f = deltatheta(x,b,e)\n",
    "        #g = deltabias(x,e)\n",
    "        #theta = newtheta(x,b,e)\n",
    "        #bias = newbias(x,e)\n",
    "    errorsum = errorsum + d\n",
    "    print(\"Error epoch-\",i,\": \",errorsum)\n"
   ]
  },
  {
   "cell_type": "code",
   "execution_count": 6,
   "metadata": {},
   "outputs": [
    {
     "data": {
      "image/png": "[encoded data removed]",
      "text/plain": [
       "<matplotlib.figure.Figure at 0x2e7554394e0>"
      ]
     },
     "metadata": {},
     "output_type": "display_data"
    }
   ],
   "source": [
    "plt.plot(d)\n",
    "plt.ylabel('error')\n",
    "plt.xlabel('epoch')\n",
    "plt.show()"
   ]
  },
  {
   "cell_type": "code",
   "execution_count": 21,
   "metadata": {},
   "outputs": [],
   "source": []
  },
  {
   "cell_type": "code",
   "execution_count": null,
   "metadata": {},
   "outputs": [],
   "source": []
  },
  {
   "cell_type": "code",
   "execution_count": null,
   "metadata": {},
   "outputs": [],
   "source": []
  },
  {
   "cell_type": "code",
   "execution_count": null,
   "metadata": {},
   "outputs": [],
   "source": []
  }
 ],
 "metadata": {
  "kernelspec": {
   "display_name": "Python 3",
   "language": "python",
   "name": "python3"
  },
  "language_info": {
   "codemirror_mode": {
    "name": "ipython",
    "version": 3
   },
   "file_extension": ".py",
   "mimetype": "text/x-python",
   "name": "python",
   "nbconvert_exporter": "python",
   "pygments_lexer": "ipython3",
   "version": "3.6.4"
  }
 },
 "nbformat": 4,
 "nbformat_minor": 2
}
